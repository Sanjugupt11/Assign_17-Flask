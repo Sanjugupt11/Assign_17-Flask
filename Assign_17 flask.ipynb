{
 "cells": [
  {
   "cell_type": "code",
   "execution_count": null,
   "id": "533963f1-a187-46f9-8e98-f9712a410ae7",
   "metadata": {},
   "outputs": [],
   "source": [
    "Q1. What is Flask Framework? What are the advantages of Flask Framework?\n",
    "Answer:Flask is a popular web framework for building web applications using Python. It is a lightweight framework \n",
    "that is easy to use and can be customized to suit various needs. Flask provides a simple and flexible way to create \n",
    "web applications and services by providing tools, libraries, and patterns to make it easy to build web applications.\n",
    "\n",
    "Flask is based on the Werkzeug WSGI toolkit and the Jinja2 template engine, and it provides developers with a wide \n",
    "range of features, including URL routing, template rendering, form handling, and session management. Flask is also \n",
    "extensible and can be easily integrated with other libraries and tools.\n",
    "dvantages of Flask Framework are:\n",
    "\n",
    "Easy to use: Flask is a lightweight framework and is easy to get started with, even for beginners who are new to web development. It has a simple syntax and minimal boilerplate code, making it easy to learn and use.\n",
    "\n",
    "Flexible and customizable: Flask is highly customizable and can be extended with various plugins and extensions to add new features and functionality. It allows developers to build web applications that are tailored to their specific needs.\n",
    "\n",
    "Powerful routing system: Flask provides a powerful routing system that allows developers to easily map URLs to functions, making it easy to create RESTful APIs and web services.\n",
    "\n",
    "Large and active community: Flask has a large and active community of developers who contribute to the framework and provide support to others. This community provides a wealth of resources, including documentation, tutorials, and examples.\n",
    "\n",
    "Lightweight and fast: Flask is a lightweight framework that is fast and efficient, making it ideal for building small to medium-sized web applications.\n",
    "\n",
    "Easy to test: Flask is designed to be easy to test, with built-in support for unit testing and integration testing. This makes it easier for developers to write robust and reliable code."
   ]
  },
  {
   "cell_type": "code",
   "execution_count": null,
   "id": "d4679c1e-9dc9-4024-903a-4787422c813a",
   "metadata": {},
   "outputs": [],
   "source": [
    "Q2. Create a simple Flask application to display ‘Hello World!!’. Attach the screenshot of the output in\n",
    "Jupyter Notebook.\n",
    "Answer:-\n",
    "from flask import Flask\n",
    "app = Flask(__name__)\n",
    "\n",
    "@app.route(\"/\")\n",
    "def hello_world1():\n",
    "    return \"<h1>Hello World!!</h1>\"\n",
    "\n",
    "if __name__==\"__main__\":\n",
    "    app.run(host=\"0.0.0.0\")\n",
    "\n"
   ]
  },
  {
   "cell_type": "code",
   "execution_count": null,
   "id": "bdeaeb27-5c9b-432f-8df0-7efbb5d31489",
   "metadata": {},
   "outputs": [],
   "source": [
    "Q3. What is App routing in Flask? Why do we use app routes?\n",
    "Answer:-\n",
    "App routing in Flask refers to the process of mapping URLs to functions in a Flask application. In other words, \n",
    "it is the process of defining which function should be executed when a particular URL is requested.\n",
    "\n",
    "Flask uses a decorator called @app.route to define the URL routes in a Flask application. For example, the following\n",
    "code defines a route that maps the URL /hello to a function called hello_world:\n",
    "When a user visits the URL http://localhost:5000/hello in their web browser, Flask will execute the hello_world function and return the string \"Hello, World!\".\n",
    "\n",
    "App routing is an essential feature of Flask because it allows developers to create web applications with multiple\n",
    "pages or endpoints. By defining app routes, developers can organize their application logic into separate functions\n",
    "and easily map URLs to those functions.\n",
    "\n",
    "In addition to defining app routes, Flask provides many other features that make it easy to build web applications,\n",
    "such as support for templates, form handling, and user authentication. By using these features in combination with\n",
    "app routing, developers can create powerful and flexible web applications with Flask.\n"
   ]
  },
  {
   "cell_type": "code",
   "execution_count": null,
   "id": "821422e8-6a46-4492-8f2a-c9295f218baf",
   "metadata": {},
   "outputs": [],
   "source": [
    "<img src=\"C:\\Users\\sanju\\Downloads\\output of hello world.jpg\" width=\"900\" height=\"300\"/>\n",
    "\n",
    "#Another link is\n",
    "\n",
    "https://mango-butcher-gymqo.pwskills.app:5000/"
   ]
  },
  {
   "cell_type": "code",
   "execution_count": null,
   "id": "3f51b19d-bb81-4264-931d-6049980d1079",
   "metadata": {},
   "outputs": [],
   "source": [
    "Q4. Create a “/welcome” route to display the welcome message “Welcome to ABC Corporation” and a “/”\n",
    "route to show the following details:\n",
    "Company Name: ABC Corporation\n",
    "Location: India\n",
    "Contact Detail: 999-999-9999\n",
    "Answer:\n",
    "#link \n",
    "#https://mango-butcher-gymqo.pwskills.app:5000/welcome\n",
    "\n",
    "from flask import Flask\n",
    "app = Flask(__name__)\n",
    "\n",
    "@app.route(\"/welcome\")\n",
    "def welcome():\n",
    "    return \"Welcome to ABC Corporation\"\n",
    "\n",
    "if __name__==\"__main__\":\n",
    "    app.run(host=\"0.0.0.0\")\n",
    "# second code \n",
    "#link\n",
    "#https://mango-butcher-gymqo.pwskills.app:5000/\n",
    "from flask import Flask\n",
    "app = Flask(__name__)\n",
    "\n",
    "@app.route(\"/\")\n",
    "def home():\n",
    "    company_name = 'ABC Corporation'\n",
    "    location = 'India'\n",
    "    contact_detail = '999-999-9999'\n",
    "    return f'Company Name: {company_name}<br>Location: {location}<br>Contact Detail: {contact_detail}'\n",
    "if __name__==\"__main__\":\n",
    "    app.run(host=\"0.0.0.0\")\n",
    "    "
   ]
  },
  {
   "cell_type": "code",
   "execution_count": null,
   "id": "946459cf-b309-4cc6-a4d9-8cd79098c00a",
   "metadata": {},
   "outputs": [],
   "source": [
    "Q5. What function is used in Flask for URL Building? Write a Python code to demonstrate the working of the\n",
    "url_for() function.\n",
    "Answer:-\n",
    "URL Building\n",
    "To build a URL to a specific function, use the url_for() function. It accepts the name of the function as its first\n",
    "argument and any number of keyword arguments, each corresponding to a variable part of the URL rule.\n",
    "\n",
    "from flask import Flask\n",
    "app = Flask(__name__)\n",
    "\n",
    "@app.route(\"/welcome\")\n",
    "def welcome():\n",
    "    return \"Welcome to ABC Corporation\"\n",
    "\n",
    "if __name__==\"__main__\":\n",
    "    app.run(host=\"0.0.0.0\")"
   ]
  }
 ],
 "metadata": {
  "kernelspec": {
   "display_name": "Python 3 (ipykernel)",
   "language": "python",
   "name": "python3"
  },
  "language_info": {
   "codemirror_mode": {
    "name": "ipython",
    "version": 3
   },
   "file_extension": ".py",
   "mimetype": "text/x-python",
   "name": "python",
   "nbconvert_exporter": "python",
   "pygments_lexer": "ipython3",
   "version": "3.10.8"
  }
 },
 "nbformat": 4,
 "nbformat_minor": 5
}
